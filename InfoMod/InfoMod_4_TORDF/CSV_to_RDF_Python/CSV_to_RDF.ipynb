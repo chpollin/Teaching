{
  "cells": [
    {
      "cell_type": "code",
      "execution_count": 63,
      "id": "9a6fa71d",
      "metadata": {
        "id": "9a6fa71d"
      },
      "outputs": [],
      "source": [
        "#installing rdflib and pandas\n",
        "#!pip install rdflib\n",
        "#!pip install pandas"
      ]
    },
    {
      "cell_type": "code",
      "execution_count": 64,
      "id": "79cd7504",
      "metadata": {
        "id": "79cd7504"
      },
      "outputs": [],
      "source": [
        "#importing libraries\n",
        "from rdflib import Graph, Literal, Namespace, URIRef\n",
        "from rdflib.namespace import DCTERMS, RDF, RDFS, SKOS, XSD\n",
        "import pandas as pd\n",
        "import urllib"
      ]
    },
    {
      "cell_type": "code",
      "execution_count": 65,
      "id": "7f11238e",
      "metadata": {
        "id": "7f11238e"
      },
      "outputs": [],
      "source": [
        "#generating a graph\n",
        "result_graph = Graph()\n",
        "\n",
        "#creating namespaces and prefixes in rdf\n",
        "VOID = Namespace(\"http://rdfs.org/ns/void#\")\n",
        "DCTERMS = Namespace(\"http://purl.org/dc/terms/\")\n",
        "DC = Namespace(\"http://purl.org/dc/elements/1.1/\")\n",
        "OT = Namespace(\"http://wallscope.co.uk/resource/olympics/team/\")\n",
        "DBO = Namespace(\"http://dbpedia.org/ontology/\")\n",
        "DBP = Namespace(\"http://dbpedia.org/property/\")\n",
        "OA = Namespace(\"http://wallscope.co.uk/resource/olympics/athlete/\")\n",
        "OC = Namespace(\"http://wallscope.co.uk/resource/olympics/city/\")\n",
        "O = Namespace(\"http://wallscope.co.uk/resource/olympics/\")\n",
        "FOAF = Namespace(\"http://xmlns.com/foaf/0.1/\")\n",
        "RDFS = Namespace(\"http://www.w3.org/2000/01/rdf-schema#\")\n",
        "XSD = Namespace(\"http://www.w3.org/2001/XMLSchema#\")\n",
        "SKOS = Namespace(\"http://www.w3.org/2004/02/skos/core#\")\n",
        "\n",
        "result_graph.bind(\"void\", VOID)\n",
        "result_graph.bind(\"dcterms\", DCTERMS)\n",
        "result_graph.bind(\"dc\", DC)\n",
        "result_graph.bind(\"ot\", OT)\n",
        "result_graph.bind(\"dbo\", DBO)\n",
        "result_graph.bind(\"dbp\", DBP)\n",
        "result_graph.bind(\"oa\", OA)\n",
        "result_graph.bind(\"oc\", OC)\n",
        "result_graph.bind(\"o\", O)\n",
        "result_graph.bind(\"foaf\", FOAF)\n",
        "result_graph.bind(\"rdfs\", RDFS)\n",
        "result_graph.bind(\"xsd\", XSD)\n",
        "result_graph.bind(\"skos\", SKOS)\n",
        "\n",
        "BASE_URL = \"http://wallscope.co.uk/resource/olympics/athlete/\" "
      ]
    },
    {
      "cell_type": "code",
      "execution_count": 66,
      "id": "dbcb316c",
      "metadata": {
        "id": "dbcb316c"
      },
      "outputs": [],
      "source": [
        "#loading the CSV and printing it\n",
        "df = pd.read_csv(\"data/athlete_events_smaller.csv\", encoding=\"utf8\") "
      ]
    },
    {
      "cell_type": "code",
      "execution_count": 67,
      "id": "85561105",
      "metadata": {
        "id": "85561105"
      },
      "outputs": [],
      "source": [
        "#making sure the URIs are valid\n",
        "def normalizeAndEncodeString(string):\n",
        "  string = str(string).replace(\" \", \"\")\n",
        "  string = urllib.parse.quote(string)\n",
        "  return string"
      ]
    },
    {
      "cell_type": "code",
      "execution_count": 68,
      "id": "ca8b28b0",
      "metadata": {
        "id": "ca8b28b0"
      },
      "outputs": [
        {
          "data": {
            "text/plain": [
              "<Graph identifier=Nca0fa051254b4c599fb99fa3b28efa6e (<class 'rdflib.graph.Graph'>)>"
            ]
          },
          "execution_count": 68,
          "metadata": {},
          "output_type": "execute_result"
        }
      ],
      "source": [
        "#creating teams like ot:Netherlands a dbo:SportsTeam with a rdfs:label\n",
        "#adding @en as data literal using the language parameter  \n",
        "for team in df['Team'].unique():\n",
        "  try:\n",
        "      team_uri = URIRef(\"http://wallscope.co.uk/resource/olympics/team/\" + normalizeAndEncodeString(team))\n",
        "      result_graph.add((team_uri, RDF.type, DBO.SportsTeam))\n",
        "      result_graph.add((team_uri , RDFS.label, Literal(team, lang='en') ))\n",
        "  except:\n",
        "      print(\"Log: failed to create a team_uri\")\n",
        "        \n",
        "#creating cities like oc:SquawValley a dbo:City with rdfs:label\n",
        "#using str(city).replace(\" \", \"\")), because whitespaces in city names like \"Squaw Valley\" would lead to invalid URIs  \n",
        "for city in df['City'].unique():\n",
        "  city_uri = URIRef(\"http://wallscope.co.uk/resource/olympics/city/\" + normalizeAndEncodeString(city) )\n",
        "  result_graph.add((city_uri, RDF.type, DBO.City))\n",
        "  # add @en to data literal via lang param\n",
        "  result_graph.add((city_uri , RDFS.label, Literal(city, lang='en') ))\n",
        "\n",
        "#creating sports like o:SpeedSkating a dbp:Sport\n",
        "for sport in df['Sport'].unique():\n",
        "  sport_uri = URIRef(\"http://wallscope.co.uk/resource/olympics/\" + normalizeAndEncodeString(sport) )\n",
        "  result_graph.add((sport_uri, RDF.type, DBO.Sport))\n",
        "\n",
        "#creating seasons like o:Summer a dbo:TimePeriod\n",
        "for season in df['Season'].unique():\n",
        "  season_uri = URIRef(\"http://wallscope.co.uk/resource/olympics/\" + normalizeAndEncodeString(season) )\n",
        "  result_graph.add((season_uri, RDF.type, DBO.TimePeriod))\n",
        "  result_graph.add((season_uri , RDFS.label, Literal(season, lang='en') ))\n",
        "\n",
        "#creating disciplines like o:SpeedSkatingWomen500metres a o:Discipline .\n",
        "for discipline in df['Event'].unique():\n",
        "  # just for having a valid url; maybe not the best idea ;)\n",
        "  discipline_uri = URIRef(\"http://wallscope.co.uk/resource/olympics/\" + normalizeAndEncodeString(discipline) )\n",
        "  result_graph.add((discipline_uri, RDF.type, O.Discipline))\n",
        "  result_graph.add((discipline_uri , RDFS.label, Literal(discipline, lang='en') ))\n",
        "\n",
        "#adding Male and Female as skos:Concept\n",
        "female = URIRef(\"http://wallscope.co.uk/resource/olympics/F\")\n",
        "male = URIRef(\"http://wallscope.co.uk/resource/olympics/M\")\n",
        "result_graph.add(( female , RDF.type, SKOS.Concept))\n",
        "result_graph.add(( female , RDFS.label, Literal(\"female\", lang='en') ))\n",
        "result_graph.add(( female , RDFS.label, Literal(\"weiblich\", lang='de') ))\n",
        "result_graph.add(( male, RDF.type, SKOS.Concept))\n",
        "result_graph.add(( male , RDFS.label, Literal(\"male\", lang='en') ))\n",
        "result_graph.add(( male , RDFS.label, Literal(\"männlich\", lang='de') ))"
      ]
    },
    {
      "cell_type": "code",
      "execution_count": 69,
      "id": "ede8bb96",
      "metadata": {
        "id": "ede8bb96"
      },
      "outputs": [
        {
          "data": {
            "text/plain": [
              "<Graph identifier=Nca0fa051254b4c599fb99fa3b28efa6e (<class 'rdflib.graph.Graph'>)>"
            ]
          },
          "execution_count": 69,
          "metadata": {},
          "output_type": "execute_result"
        }
      ],
      "source": [
        "#making sure the URIs are valid\n",
        "def normalizeAndEncodeString(string):\n",
        "  string = str(string).replace(\" \", \"\")\n",
        "  string = urllib.parse.quote(string)\n",
        "  return string\n",
        "\n",
        "#creating teams like ot:Netherlands a dbo:SportsTeam with a rdfs:label\n",
        "#adding @en as data literal using the language parameter  \n",
        "for team in df['Team'].unique():\n",
        "  try:\n",
        "      team_uri = URIRef(\"http://wallscope.co.uk/resource/olympics/team/\" + normalizeAndEncodeString(team))\n",
        "      result_graph.add((team_uri, RDF.type, DBO.SportsTeam))\n",
        "      result_graph.add((team_uri , RDFS.label, Literal(team, lang='en') ))\n",
        "  except:\n",
        "      print(\"Log: failed to create a team_uri\")    \n",
        "\n",
        "#creating cities like oc:SquawValley a dbo:City with rdfs:label\n",
        "#using str(city).replace(\" \", \"\")), because whitespaces in city names like \"Squaw Valley\" would lead to invalid URIs  \n",
        "for city in df['City'].unique():\n",
        "  city_uri = URIRef(\"http://wallscope.co.uk/resource/olympics/city/\" + normalizeAndEncodeString(city) )\n",
        "  result_graph.add((city_uri, RDF.type, DBO.City))\n",
        "  # add @en to data literal via lang param\n",
        "  result_graph.add((city_uri , RDFS.label, Literal(city, lang='en') ))\n",
        "\n",
        "#creating sports like o:SpeedSkating a dbp:Sport\n",
        "for sport in df['Sport'].unique():\n",
        "  sport_uri = URIRef(\"http://wallscope.co.uk/resource/olympics/\" + normalizeAndEncodeString(sport) )\n",
        "  result_graph.add((sport_uri, RDF.type, DBO.Sport))\n",
        "\n",
        "#creating seasons like o:Summer a dbo:TimePeriod\n",
        "for season in df['Season'].unique():\n",
        "  season_uri = URIRef(\"http://wallscope.co.uk/resource/olympics/\" + normalizeAndEncodeString(season) )\n",
        "  result_graph.add((season_uri, RDF.type, DBO.TimePeriod))\n",
        "  result_graph.add((season_uri , RDFS.label, Literal(season, lang='en') ))\n",
        "\n",
        "#creating disciplines like o:SpeedSkatingWomen500metres a o:Discipline .\n",
        "for discipline in df['Event'].unique():\n",
        "  # just for having a valid url; maybe not the best idea ;)\n",
        "  discipline_uri = URIRef(\"http://wallscope.co.uk/resource/olympics/\" + normalizeAndEncodeString(discipline) )\n",
        "  result_graph.add((discipline_uri, RDF.type, O.Discipline))\n",
        "  result_graph.add((discipline_uri , RDFS.label, Literal(discipline, lang='en') ))\n",
        "\n",
        "#adding Male and Female as skos:Concept\n",
        "female = URIRef(\"http://wallscope.co.uk/resource/olympics/F\")\n",
        "male = URIRef(\"http://wallscope.co.uk/resource/olympics/M\")\n",
        "result_graph.add(( female , RDF.type, SKOS.Concept))\n",
        "result_graph.add(( female , RDFS.label, Literal(\"female\", lang='en') ))\n",
        "result_graph.add(( female , RDFS.label, Literal(\"weiblich\", lang='de') ))\n",
        "result_graph.add(( male, RDF.type, SKOS.Concept))\n",
        "result_graph.add(( male , RDFS.label, Literal(\"male\", lang='en') ))\n",
        "result_graph.add(( male , RDFS.label, Literal(\"männlich\", lang='de') ))"
      ]
    },
    {
      "cell_type": "code",
      "execution_count": 70,
      "id": "63f8458d",
      "metadata": {
        "id": "63f8458d"
      },
      "outputs": [],
      "source": [
        "#creating athletes like <ol:Athlete rdf:about=\"https://gams.uni-graz.at/olympia.1#9792\"/>\n",
        "#grouping by value in the ID-column\n",
        "df_group_by_id = df.groupby('ID')\n",
        "#iterating over all groups\n",
        "for ID, df_group in df_group_by_id:\n",
        "\n",
        "  #getting <http://wallscope.co.uk/resource/olympics/athlete/24> instead of oa:NilsEgilAaness \n",
        "  athlete_uri = URIRef(BASE_URL + str(ID))\n",
        "  result_graph.add((athlete_uri, RDF.type, FOAF.Person))\n",
        "\n",
        "  #iterating over all elements inside the group\n",
        "  for row_index, row in df_group.iterrows():\n",
        "    #names - foaf:name with a rdfs:label (foaf:name \"Neil Agius\")\n",
        "    if(row[\"Name\"]):\n",
        "      result_graph.add(( athlete_uri, RDFS.label, Literal(row[\"Name\"]) ))\n",
        "      result_graph.add(( athlete_uri, FOAF.name, Literal(row[\"Name\"]) ))  \n",
        "    #age - foaf:age 17, Weight - dbp:weight 65, Height - dbp:height 169; only integers\n",
        "    if(row[\"Age\"] and (type(row[\"Age\"]) == int or type(row[\"Age\"]) == float)):\n",
        "      #integer is the default datatype for number, adding this with datatype=XSD.integer or datatype=XSD.float to the literal\n",
        "      # check if not nan\n",
        "      if(row[\"Age\"] > 1):\n",
        "        result_graph.add(( athlete_uri, FOAF.age, Literal(row[\"Age\"] , datatype=XSD.integer) ))\n",
        "    if(row[\"Height\"].is_integer()):\n",
        "      result_graph.add(( athlete_uri, DBP.height, Literal(row[\"Height\"] ) ))\n",
        "    if(row[\"Weight\"].is_integer()):\n",
        "      result_graph.add(( athlete_uri, DBP.weight, Literal(row[\"Weight\"] ) ))\n",
        "\n",
        "    #sex - foaf:gender o:F\n",
        "    if(row[\"Sex\"] == \"F\"):\n",
        "      result_graph.add((athlete_uri, FOAF.gender, URIRef( female ) ))\n",
        "    if(row[\"Sex\"] == \"M\"):\n",
        "      result_graph.add((athlete_uri, FOAF.gender, URIRef( male ) ))\n",
        "\n",
        "    #team - dbp:team ot:Netherlands\n",
        "    if(row[\"Team\"]):\n",
        "      result_graph.add(( athlete_uri, DBP.team, URIRef(\"http://wallscope.co.uk/resource/olympics/team/\" + normalizeAndEncodeString(row[\"Team\"]) )))\n",
        "\n",
        "    #game - o:Game o:2004Summer with rfd:label (combining it with city, and season)\n",
        "    if(row[\"Games\"]):\n",
        "      game_uri = URIRef(\"http://wallscope.co.uk/resource/olympics/\" + str(row[\"Games\"]).replace(\" \", \"\"))\n",
        "      result_graph.add((game_uri, RDF.type, DBO.Olympics))\n",
        "      #adding @en to data literal via lang param\n",
        "      result_graph.add((game_uri , RDFS.label, Literal( row[\"Games\"], lang='en' ) ))\n",
        "      result_graph.add((game_uri , O.city, URIRef(\"http://wallscope.co.uk/resource/olympics/city/\" + str(row[\"City\"]).replace(\" \", \"\")) ))\n",
        "      result_graph.add((game_uri , O.season, URIRef(\"http://wallscope.co.uk/resource/olympics/\" + str(row[\"Season\"]).replace(\" \", \"\")) ))\n",
        "\n",
        "    #sport - o:NordicCombined a dbo:Sport \n",
        "    #discipline - :NordicCombinedMen%27sTeam a o:Discipline with rdfs:label\n",
        "    discipline_string = urllib.parse.quote(str(row[\"Event\"]).replace(\" \", \"\"))\n",
        "    discipline_uri = URIRef(\"http://wallscope.co.uk/resource/olympics/\" + discipline_string )\n",
        "    result_graph.add((discipline_uri , O.sport, URIRef(\"http://wallscope.co.uk/resource/olympics/\" + str(row[\"Sport\"]).replace(\" \", \"\")) ))\n",
        "\n",
        "    #results - o:result.1 a o:Result (combining it with athlete, discipline and game)\n",
        "    result_uri = URIRef(\"http://wallscope.co.uk/resource/olympics/\" + \"result.\" + str(ID))\n",
        "    result_graph.add((result_uri, RDF.type, O.Result))\n",
        "    result_graph.add((result_uri, O.athlete, athlete_uri)) \n",
        "    result_graph.add((result_uri, O.discipline, discipline_uri)) \n",
        "    result_graph.add((result_uri, O.game, game_uri)) "
      ]
    },
    {
      "cell_type": "code",
      "execution_count": 71,
      "id": "d910bfd5",
      "metadata": {
        "id": "d910bfd5"
      },
      "outputs": [
        {
          "data": {
            "text/plain": [
              "<Graph identifier=Nca0fa051254b4c599fb99fa3b28efa6e (<class 'rdflib.graph.Graph'>)>"
            ]
          },
          "execution_count": 71,
          "metadata": {},
          "output_type": "execute_result"
        }
      ],
      "source": [
        "#creating an output file\n",
        "result_graph.serialize(destination = \"olympia_output.ttl\", format=\"turtle\")"
      ]
    }
  ],
  "metadata": {
    "colab": {
      "collapsed_sections": [],
      "name": "csvtordf_s.ipynb",
      "provenance": []
    },
    "interpreter": {
      "hash": "e74083abf29097b58386169f0c1324e0dc8c5d9f79ab79e54c64b99aead5c15b"
    },
    "kernelspec": {
      "display_name": "Python 3.9.12 64-bit (windows store)",
      "language": "python",
      "name": "python3"
    },
    "language_info": {
      "codemirror_mode": {
        "name": "ipython",
        "version": 3
      },
      "file_extension": ".py",
      "mimetype": "text/x-python",
      "name": "python",
      "nbconvert_exporter": "python",
      "pygments_lexer": "ipython3",
      "version": "3.9.12"
    }
  },
  "nbformat": 4,
  "nbformat_minor": 5
}

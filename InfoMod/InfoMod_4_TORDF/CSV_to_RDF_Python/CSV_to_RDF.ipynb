{
  "nbformat": 4,
  "nbformat_minor": 0,
  "metadata": {
    "colab": {
      "name": "CSV_to_RDF.ipynb",
      "provenance": [],
      "collapsed_sections": []
    },
    "kernelspec": {
      "name": "python385jvsc74a57bd02db524e06e9f5f4ffedc911c917cb75e12dbc923643829bf417064a77eb14d37",
      "display_name": "Python 3.8.5 64-bit"
    },
    "metadata": {
      "interpreter": {
        "hash": "2db524e06e9f5f4ffedc911c917cb75e12dbc923643829bf417064a77eb14d37"
      }
    }
  },
  "cells": [
    {
      "cell_type": "markdown",
      "metadata": {
        "id": "2AO1-cVk8fXh"
      },
      "source": [
        "# CSV to RDF\n",
        "\n",
        "* author: Christopher Pollin\n",
        "* date: 2021\n",
        "\n",
        "\n",
        "first we have to install the library [rdflib](https://rdflib.readthedocs.io/en/stable/) and import it next to [pandas](https://pandas.pydata.org/)."
      ]
    },
    {
      "cell_type": "code",
      "metadata": {
        "colab": {
          "base_uri": "https://localhost:8080/"
        },
        "id": "ZVWy4-a28PzK",
        "outputId": "3ae3f155-42d2-4878-9ece-187dc7ef8e4f"
      },
      "source": [
        "!pip install rdflib\n",
        "from rdflib import Graph, Literal, Namespace, URIRef\n",
        "from rdflib.namespace import DCTERMS, RDF, RDFS, SKOS, XSD\n",
        "import pandas as pd\n",
        "import urllib"
      ],
      "execution_count": 293,
      "outputs": [
        {
          "output_type": "stream",
          "name": "stdout",
          "text": [
            "Requirement already satisfied: rdflib in c:\\python38\\lib\\site-packages (5.0.0)\n",
            "Requirement already satisfied: pyparsing in c:\\python38\\lib\\site-packages (from rdflib) (2.4.7)\n",
            "Requirement already satisfied: six in c:\\users\\chris\\appdata\\roaming\\python\\python38\\site-packages (from rdflib) (1.15.0)\n",
            "Requirement already satisfied: isodate in c:\\python38\\lib\\site-packages (from rdflib) (0.6.0)\n",
            "WARNING: You are using pip version 21.0.1; however, version 21.1.2 is available.\n",
            "You should consider upgrading via the 'c:\\python38\\python.exe -m pip install --upgrade pip' command.\n"
          ]
        }
      ]
    },
    {
      "cell_type": "code",
      "metadata": {
        "id": "dPImu9_a7ORV"
      },
      "source": [
        "# result_graph contains the rdf graph we want to generate and serialize in a new output file. we predefine alle needed namespaces and add them to result_graph.\n",
        "result_graph = Graph()\n",
        "\n",
        "# namespaces, @prefix in rdf\n",
        "VOID = Namespace(\"http://rdfs.org/ns/void#\")\n",
        "DCTERMS = Namespace(\"http://purl.org/dc/terms/\")\n",
        "DC = Namespace(\"http://purl.org/dc/elements/1.1/\")\n",
        "OT = Namespace(\"http://wallscope.co.uk/resource/olympics/team/\")\n",
        "DBO = Namespace(\"http://dbpedia.org/ontology/\")\n",
        "DBP = Namespace(\"http://dbpedia.org/property/\")\n",
        "OA = Namespace(\"http://wallscope.co.uk/resource/olympics/athlete/\")\n",
        "OC = Namespace(\"http://wallscope.co.uk/resource/olympics/city/\")\n",
        "O = Namespace(\"http://wallscope.co.uk/resource/olympics/\")\n",
        "FOAF = Namespace(\"http://xmlns.com/foaf/0.1/\")\n",
        "RDFS = Namespace(\"http://www.w3.org/2000/01/rdf-schema#\")\n",
        "XSD = Namespace(\"http://www.w3.org/2001/XMLSchema#\")\n",
        "SKOS = Namespace(\"http://www.w3.org/2004/02/skos/core#\")\n",
        "\n",
        "result_graph.bind(\"void\", VOID)\n",
        "result_graph.bind(\"dcterms\", DCTERMS)\n",
        "result_graph.bind(\"dc\", DC)\n",
        "result_graph.bind(\"ot\", OT)\n",
        "result_graph.bind(\"dbo\", DBO)\n",
        "result_graph.bind(\"dbp\", DBP)\n",
        "result_graph.bind(\"oa\", OA)\n",
        "result_graph.bind(\"oc\", OC)\n",
        "result_graph.bind(\"o\", O)\n",
        "result_graph.bind(\"foaf\", FOAF)\n",
        "result_graph.bind(\"rdfs\", RDFS)\n",
        "result_graph.bind(\"xsd\", XSD)\n",
        "result_graph.bind(\"skos\", SKOS)\n",
        "\n",
        "BASE_URL = \"http://wallscope.co.uk/resource/olympics/athlete/\""
      ],
      "execution_count": 294,
      "outputs": []
    },
    {
      "cell_type": "markdown",
      "metadata": {
        "id": "w83GtGBAB-4o"
      },
      "source": [
        "loading the data into a new panda dataframe. upload the `athlete_events_smaller.csv` into the *data* folder. the csv contains 2500 athletes for each multiple rows can exist. the header of the CSV looks like the following;\r\n",
        "\r\n",
        "\"ID\",\"Name\",\"Sex\",\"Age\",\"Height\",\"Weight\",\"Team\",\"NOC\",\"Games\",\"Year\",\"Season\",\"City\",\"Sport\",\"Event\",\"Medal\"\r\n",
        "\r\n",
        "**YOU HAVE TO REUPLOAD THE CSV INPUT INTO THE CORRECT FOLDER \"content\" !!!**"
      ]
    },
    {
      "cell_type": "code",
      "metadata": {
        "colab": {
          "base_uri": "https://localhost:8080/",
          "height": 340
        },
        "id": "GioPsib5A8fA",
        "outputId": "125726b2-0e31-4159-f21d-cf11a5bb0d30"
      },
      "source": [
        "# load csv and print it\n",
        "df = pd.read_csv(\"data/athlete_events_smaller.csv\", encoding=\"utf8\") \n",
        "#print(df)"
      ],
      "execution_count": 295,
      "outputs": []
    },
    {
      "source": [
        "#### `ot:Netherlands a dbo:SportsTeam` \n",
        "\n",
        "get all distinct teams and create `ot:Netherlands a dbo:SportsTeam` with rdfs:label\n",
        "\n",
        "* add @en to data literal via `lang` param "
      ],
      "cell_type": "markdown",
      "metadata": {}
    },
    {
      "cell_type": "code",
      "execution_count": 296,
      "metadata": {},
      "outputs": [],
      "source": [
        "def normalizeAndEncodeString(string):\n",
        "  string = str(string).replace(\" \", \"\")\n",
        "  string = urllib.parse.quote(string)\n",
        "  return string"
      ]
    },
    {
      "cell_type": "code",
      "execution_count": 297,
      "metadata": {},
      "outputs": [],
      "source": [
        "for team in df['Team'].unique():\n",
        "    try:\n",
        "        team_uri = URIRef(\"http://wallscope.co.uk/resource/olympics/team/\" + normalizeAndEncodeString(team))\n",
        "        result_graph.add((team_uri, RDF.type, DBO.SportsTeam))\n",
        "        result_graph.add((team_uri , RDFS.label, Literal(team, lang='en') ))\n",
        "    except:\n",
        "        print(\"Log: failed to create a team_uri\")    \n"
      ]
    },
    {
      "source": [
        "#### `oc:SquawValley a dbo:City` \n",
        "\n",
        "* get all distinct cities and create `oc:SquawValley a dbo:City`  with rdfs:label\n",
        "* `str(city).replace(\" \", \"\"))` is necessary as whitespace in \"Squaw Valley\" leads to an invalid URI. so you have to be careful what you take to build the URI. "
      ],
      "cell_type": "markdown",
      "metadata": {}
    },
    {
      "cell_type": "code",
      "execution_count": 298,
      "metadata": {},
      "outputs": [],
      "source": [
        "for city in df['City'].unique():\n",
        "    city_uri = URIRef(\"http://wallscope.co.uk/resource/olympics/city/\" + normalizeAndEncodeString(city) )\n",
        "    result_graph.add((city_uri, RDF.type, DBO.City))\n",
        "    # add @en to data literal via lang param\n",
        "    result_graph.add((city_uri , RDFS.label, Literal(city, lang='en') ))\n"
      ]
    },
    {
      "cell_type": "code",
      "execution_count": 299,
      "metadata": {},
      "outputs": [],
      "source": [
        "# o:SpeedSkating a dbp:Sport .\n",
        "for sport in df['Sport'].unique():\n",
        "    sport_uri = URIRef(\"http://wallscope.co.uk/resource/olympics/\" + normalizeAndEncodeString(sport) )\n",
        "    result_graph.add((sport_uri, RDF.type, DBO.Sport))\n",
        "# o:Summer a dbo:TimePeriod .\n",
        "for season in df['Season'].unique():\n",
        "    season_uri = URIRef(\"http://wallscope.co.uk/resource/olympics/\" + normalizeAndEncodeString(season) )\n",
        "    result_graph.add((season_uri, RDF.type, DBO.TimePeriod))\n",
        "    result_graph.add((season_uri , RDFS.label, Literal(season, lang='en') ))\n",
        "# o:SpeedSkatingWomen500metres a o:Discipline .\n",
        "for discipline in df['Event'].unique():\n",
        "    # just for having a valid url; maybe not the best idea ;)\n",
        "    discipline_uri = URIRef(\"http://wallscope.co.uk/resource/olympics/\" + normalizeAndEncodeString(discipline) )\n",
        "    result_graph.add((discipline_uri, RDF.type, O.Discipline))\n",
        "    result_graph.add((discipline_uri , RDFS.label, Literal(discipline, lang='en') ))\n",
        "\n",
        "# add Male and Female as skos:Concept\n",
        "female = URIRef(\"http://wallscope.co.uk/resource/olympics/F\")\n",
        "male = URIRef(\"http://wallscope.co.uk/resource/olympics/M\")\n",
        "result_graph.add(( female , RDF.type, SKOS.Concept))\n",
        "result_graph.add(( female , RDFS.label, Literal(\"female\", lang='en') ))\n",
        "result_graph.add(( female , RDFS.label, Literal(\"weiblich\", lang='de') ))\n",
        "result_graph.add(( male, RDF.type, SKOS.Concept))\n",
        "result_graph.add(( male , RDFS.label, Literal(\"male\", lang='en') ))\n",
        "result_graph.add(( male , RDFS.label, Literal(\"männlich\", lang='de') ))"
      ]
    },
    {
      "cell_type": "code",
      "metadata": {
        "id": "wL9ZbIunDGYX",
        "tags": []
      },
      "source": [
        "\n",
        "# create <ol:Athlete rdf:about=\"https://gams.uni-graz.at/olympia.1#9792\"/>\n",
        "# groupy by value in the ID-column\n",
        "df_group_by_id = df.groupby('ID')\n",
        "# iteration over all groups\n",
        "for ID, df_group in df_group_by_id:\n",
        "\n",
        "  # we will take <http://wallscope.co.uk/resource/olympics/athlete/24> instead of oa:NilsEgilAaness \n",
        "  athlete_uri = URIRef(BASE_URL + str(ID))\n",
        "  result_graph.add((athlete_uri, RDF.type, FOAF.Person))\n",
        "\n",
        "  # iteration over all elements inside the group\n",
        "  for row_index, row in df_group.iterrows():\n",
        "    # foaf:name, rdfs:label\n",
        "    if(row[\"Name\"]):\n",
        "      result_graph.add(( athlete_uri, RDFS.label, Literal(row[\"Name\"]) ))\n",
        "      result_graph.add(( athlete_uri, FOAF.name, Literal(row[\"Name\"]) ))  \n",
        "    # Age - foaf:age 17, Weight - dbp:weight 65, Height- dbp:height 169; only integer\n",
        "    if(row[\"Age\"]):\n",
        "      # integer is default datatype for number; but with datatype=XSD.integer or datatype=XSD.float you can add this to the literal\n",
        "      result_graph.add(( athlete_uri, FOAF.age, Literal(row[\"Age\"] , datatype=XSD.integer) ))\n",
        "    if(row[\"Height\"].is_integer()):\n",
        "      result_graph.add(( athlete_uri, DBP.height, Literal(row[\"Height\"] ) ))\n",
        "    if(row[\"Weight\"].is_integer()):\n",
        "      result_graph.add(( athlete_uri, DBP.weight, Literal(row[\"Weight\"] ) ))\n",
        "\n",
        "    # Sex - foaf:gender o:F\n",
        "    if(row[\"Sex\"] == \"F\"):\n",
        "      result_graph.add((athlete_uri, FOAF.gender, URIRef( female ) ))\n",
        "    if(row[\"Sex\"] == \"M\"):\n",
        "      result_graph.add((athlete_uri, FOAF.gender, URIRef( male ) ))\n",
        "\n",
        "    # Team - dbp:team ot:Netherlands\n",
        "    if(row[\"Team\"]):\n",
        "      result_graph.add(( athlete_uri, DBP.team, URIRef(\"http://wallscope.co.uk/resource/olympics/team/\" + normalizeAndEncodeString(row[\"Team\"]) )))\n",
        "\n",
        "    # Game\n",
        "    if(row[\"Games\"]):\n",
        "      game_uri = URIRef(\"http://wallscope.co.uk/resource/olympics/\" + str(row[\"Games\"]).replace(\" \", \"\"))\n",
        "      result_graph.add((game_uri, RDF.type, DBO.Olympics))\n",
        "      # add @en to data literal via lang param\n",
        "      result_graph.add((game_uri , RDFS.label, Literal( row[\"Games\"], lang='en' ) ))\n",
        "      result_graph.add((game_uri , O.city, URIRef(\"http://wallscope.co.uk/resource/olympics/city/\" + str(row[\"City\"]).replace(\" \", \"\")) ))\n",
        "      result_graph.add((game_uri , O.season, URIRef(\"http://wallscope.co.uk/resource/olympics/\" + str(row[\"Season\"]).replace(\" \", \"\")) ))\n",
        " \n",
        "    # o:Discipline o:sport o:Luge.\n",
        "    discipline_string = urllib.parse.quote(str(row[\"Event\"]).replace(\" \", \"\"))\n",
        "    discipline_uri = URIRef(\"http://wallscope.co.uk/resource/olympics/\" + discipline_string )\n",
        "    result_graph.add((discipline_uri , O.sport, URIRef(\"http://wallscope.co.uk/resource/olympics/\" + str(row[\"Sport\"]).replace(\" \", \"\")) ))\n",
        "\n",
        "    # Result\n",
        "    result_uri = URIRef(\"http://wallscope.co.uk/resource/olympics/\" + \"result.\" + str(ID))\n",
        "    result_graph.add((result_uri, RDF.type, O.Result))\n",
        "    result_graph.add((result_uri, O.athlete, athlete_uri)) \n",
        "    result_graph.add((result_uri, O.discipline, discipline_uri)) \n",
        "    result_graph.add((result_uri, O.game, game_uri)) "
      ],
      "execution_count": 300,
      "outputs": [
        {
          "output_type": "error",
          "ename": "SyntaxError",
          "evalue": "invalid syntax (<ipython-input-300-a9ba59e64900>, line 20)",
          "traceback": [
            "\u001b[1;36m  File \u001b[1;32m\"<ipython-input-300-a9ba59e64900>\"\u001b[1;36m, line \u001b[1;32m20\u001b[0m\n\u001b[1;33m    result_graph.add(( athlete_uri, FOAF.age, Literal(row[\"Age\"] ), datatype=XSD.integer) ))\u001b[0m\n\u001b[1;37m                                                                            ^\u001b[0m\n\u001b[1;31mSyntaxError\u001b[0m\u001b[1;31m:\u001b[0m invalid syntax\n"
          ]
        }
      ]
    },
    {
      "source": [],
      "cell_type": "markdown",
      "metadata": {}
    },
    {
      "cell_type": "markdown",
      "metadata": {
        "id": "5Q2GJvtEHxD1"
      },
      "source": [
        "#### Create a new file\n",
        "\n",
        "* format=\"xml\" - creates plain xml/rdf\n",
        "* format=\"pretty-xml\" - abbreviated RDF/XML syntax \n",
        "* format=\"turtle\""
      ]
    },
    {
      "cell_type": "code",
      "metadata": {
        "id": "chGLcPc-Ht1N"
      },
      "source": [
        "result_graph.serialize(destination = \"olympia_output.ttl\", format=\"turtle\")"
      ],
      "execution_count": 192,
      "outputs": []
    }
  ]
}
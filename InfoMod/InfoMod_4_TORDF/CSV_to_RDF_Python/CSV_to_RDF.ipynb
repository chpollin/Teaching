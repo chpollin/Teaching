{
  "nbformat": 4,
  "nbformat_minor": 2,
  "metadata": {
    "colab": {
      "name": "CSV_to_RDF.ipynb",
      "provenance": [],
      "collapsed_sections": []
    },
    "kernelspec": {
      "name": "python3",
      "display_name": "Python 3.9.7 64-bit (windows store)"
    },
    "metadata": {
      "interpreter": {
        "hash": "2db524e06e9f5f4ffedc911c917cb75e12dbc923643829bf417064a77eb14d37"
      }
    },
    "language_info": {
      "name": "python",
      "version": "3.9.7",
      "mimetype": "text/x-python",
      "codemirror_mode": {
        "name": "ipython",
        "version": 3
      },
      "pygments_lexer": "ipython3",
      "nbconvert_exporter": "python",
      "file_extension": ".py"
    },
    "interpreter": {
      "hash": "09c2abdb35c9ed219da6aa3484acfbeab5488d4abc162a2f5b8153d32904a419"
    }
  },
  "cells": [
    {
      "cell_type": "markdown",
      "source": [
        "# CSV to RDF\r\n",
        "\r\n",
        "* author: Christopher Pollin\r\n",
        "* date: 2021\r\n",
        "\r\n",
        "\r\n",
        "First we have to install the library [rdflib](https://rdflib.readthedocs.io/en/stable/) and import it next to [pandas](https://pandas.pydata.org/). Maybe you also habe to install pandas first. "
      ],
      "metadata": {
        "id": "2AO1-cVk8fXh"
      }
    },
    {
      "cell_type": "code",
      "execution_count": 3,
      "source": [
        "!pip install rdflib\r\n",
        "!pip install pandas\r\n",
        "from rdflib import Graph, Literal, Namespace, URIRef\r\n",
        "from rdflib.namespace import DCTERMS, RDF, RDFS, SKOS, XSD\r\n",
        "import pandas as pd\r\n",
        "import urllib"
      ],
      "outputs": [
        {
          "output_type": "stream",
          "name": "stdout",
          "text": [
            "Requirement already satisfied: rdflib in c:\\users\\pollin\\appdata\\local\\packages\\pythonsoftwarefoundation.python.3.9_qbz5n2kfra8p0\\localcache\\local-packages\\python39\\site-packages (6.0.1)\n",
            "Requirement already satisfied: setuptools in c:\\program files\\windowsapps\\pythonsoftwarefoundation.python.3.9_3.9.2032.0_x64__qbz5n2kfra8p0\\lib\\site-packages (from rdflib) (57.4.0)\n",
            "Requirement already satisfied: isodate in c:\\users\\pollin\\appdata\\local\\packages\\pythonsoftwarefoundation.python.3.9_qbz5n2kfra8p0\\localcache\\local-packages\\python39\\site-packages (from rdflib) (0.6.0)\n",
            "Requirement already satisfied: pyparsing in c:\\users\\pollin\\appdata\\local\\packages\\pythonsoftwarefoundation.python.3.9_qbz5n2kfra8p0\\localcache\\local-packages\\python39\\site-packages (from rdflib) (2.4.7)\n",
            "Requirement already satisfied: six in c:\\users\\pollin\\appdata\\local\\packages\\pythonsoftwarefoundation.python.3.9_qbz5n2kfra8p0\\localcache\\local-packages\\python39\\site-packages (from isodate->rdflib) (1.16.0)\n"
          ]
        },
        {
          "output_type": "stream",
          "name": "stderr",
          "text": [
            "WARNING: You are using pip version 21.2.3; however, version 21.2.4 is available.\n",
            "You should consider upgrading via the 'C:\\Users\\pollin\\AppData\\Local\\Microsoft\\WindowsApps\\PythonSoftwareFoundation.Python.3.9_qbz5n2kfra8p0\\python.exe -m pip install --upgrade pip' command.\n"
          ]
        },
        {
          "output_type": "stream",
          "name": "stdout",
          "text": [
            "Collecting pandas\n",
            "  Downloading pandas-1.3.3-cp39-cp39-win_amd64.whl (10.2 MB)\n",
            "Collecting pytz>=2017.3\n",
            "  Downloading pytz-2021.1-py2.py3-none-any.whl (510 kB)\n",
            "Requirement already satisfied: python-dateutil>=2.7.3 in c:\\users\\pollin\\appdata\\local\\packages\\pythonsoftwarefoundation.python.3.9_qbz5n2kfra8p0\\localcache\\local-packages\\python39\\site-packages (from pandas) (2.8.2)\n",
            "Collecting numpy>=1.17.3\n",
            "  Downloading numpy-1.21.2-cp39-cp39-win_amd64.whl (14.0 MB)\n",
            "Requirement already satisfied: six>=1.5 in c:\\users\\pollin\\appdata\\local\\packages\\pythonsoftwarefoundation.python.3.9_qbz5n2kfra8p0\\localcache\\local-packages\\python39\\site-packages (from python-dateutil>=2.7.3->pandas) (1.16.0)\n",
            "Installing collected packages: pytz, numpy, pandas\n",
            "Successfully installed numpy-1.21.2 pandas-1.3.3 pytz-2021.1\n"
          ]
        },
        {
          "output_type": "stream",
          "name": "stderr",
          "text": [
            "  WARNING: The script f2py.exe is installed in 'C:\\Users\\pollin\\AppData\\Local\\Packages\\PythonSoftwareFoundation.Python.3.9_qbz5n2kfra8p0\\LocalCache\\local-packages\\Python39\\Scripts' which is not on PATH.\n",
            "  Consider adding this directory to PATH or, if you prefer to suppress this warning, use --no-warn-script-location.\n",
            "WARNING: You are using pip version 21.2.3; however, version 21.2.4 is available.\n",
            "You should consider upgrading via the 'C:\\Users\\pollin\\AppData\\Local\\Microsoft\\WindowsApps\\PythonSoftwareFoundation.Python.3.9_qbz5n2kfra8p0\\python.exe -m pip install --upgrade pip' command.\n"
          ]
        }
      ],
      "metadata": {
        "colab": {
          "base_uri": "https://localhost:8080/"
        },
        "id": "ZVWy4-a28PzK",
        "outputId": "3ae3f155-42d2-4878-9ece-187dc7ef8e4f"
      }
    },
    {
      "cell_type": "code",
      "execution_count": 5,
      "source": [
        "# result_graph contains the rdf graph we want to generate and serialize in a new output file. we predefine alle needed namespaces and add them to result_graph.\r\n",
        "result_graph = Graph()\r\n",
        "\r\n",
        "# namespaces, @prefix in rdf\r\n",
        "VOID = Namespace(\"http://rdfs.org/ns/void#\")\r\n",
        "DCTERMS = Namespace(\"http://purl.org/dc/terms/\")\r\n",
        "DC = Namespace(\"http://purl.org/dc/elements/1.1/\")\r\n",
        "OT = Namespace(\"http://wallscope.co.uk/resource/olympics/team/\")\r\n",
        "DBO = Namespace(\"http://dbpedia.org/ontology/\")\r\n",
        "DBP = Namespace(\"http://dbpedia.org/property/\")\r\n",
        "OA = Namespace(\"http://wallscope.co.uk/resource/olympics/athlete/\")\r\n",
        "OC = Namespace(\"http://wallscope.co.uk/resource/olympics/city/\")\r\n",
        "O = Namespace(\"http://wallscope.co.uk/resource/olympics/\")\r\n",
        "FOAF = Namespace(\"http://xmlns.com/foaf/0.1/\")\r\n",
        "RDFS = Namespace(\"http://www.w3.org/2000/01/rdf-schema#\")\r\n",
        "XSD = Namespace(\"http://www.w3.org/2001/XMLSchema#\")\r\n",
        "SKOS = Namespace(\"http://www.w3.org/2004/02/skos/core#\")\r\n",
        "\r\n",
        "result_graph.bind(\"void\", VOID)\r\n",
        "result_graph.bind(\"dcterms\", DCTERMS)\r\n",
        "result_graph.bind(\"dc\", DC)\r\n",
        "result_graph.bind(\"ot\", OT)\r\n",
        "result_graph.bind(\"dbo\", DBO)\r\n",
        "result_graph.bind(\"dbp\", DBP)\r\n",
        "result_graph.bind(\"oa\", OA)\r\n",
        "result_graph.bind(\"oc\", OC)\r\n",
        "result_graph.bind(\"o\", O)\r\n",
        "result_graph.bind(\"foaf\", FOAF)\r\n",
        "result_graph.bind(\"rdfs\", RDFS)\r\n",
        "result_graph.bind(\"xsd\", XSD)\r\n",
        "result_graph.bind(\"skos\", SKOS)\r\n",
        "\r\n",
        "BASE_URL = \"http://wallscope.co.uk/resource/olympics/athlete/\""
      ],
      "outputs": [],
      "metadata": {
        "id": "dPImu9_a7ORV"
      }
    },
    {
      "cell_type": "markdown",
      "source": [
        "If you are working e.g. in Google Colab you first have to upload the `athlete_events_smaller.csv` into the *data* folder. Otherwise just check the path to the csv. The csv contains 2500 athletes and for each athlete multiple rows can exist. The header of the CSV looks like the following;\r\n",
        "\r\n",
        "\"ID\",\"Name\",\"Sex\",\"Age\",\"Height\",\"Weight\",\"Team\",\"NOC\",\"Games\",\"Year\",\"Season\",\"City\",\"Sport\",\"Event\",\"Medal\"\r\n",
        "\r\n",
        "**YOU HAVE TO REUPLOAD THE CSV INPUT INTO THE CORRECT FOLDER \"content\" when you work e.g. in Google Colab  !!!**"
      ],
      "metadata": {
        "id": "w83GtGBAB-4o"
      }
    },
    {
      "cell_type": "code",
      "execution_count": 6,
      "source": [
        "# load csv and print it\r\n",
        "df = pd.read_csv(\"data/athlete_events_smaller.csv\", encoding=\"utf8\") \r\n",
        "#print(df)"
      ],
      "outputs": [],
      "metadata": {
        "colab": {
          "base_uri": "https://localhost:8080/",
          "height": 340
        },
        "id": "GioPsib5A8fA",
        "outputId": "125726b2-0e31-4159-f21d-cf11a5bb0d30"
      }
    },
    {
      "cell_type": "markdown",
      "source": [
        "#### `ot:Netherlands a dbo:SportsTeam` \r\n",
        "\r\n",
        "Get all distinct teams and create `ot:Netherlands a dbo:SportsTeam` with a rdfs:label.\r\n",
        "\r\n",
        "* add @en to data literal using the `lang` param. "
      ],
      "metadata": {}
    },
    {
      "cell_type": "code",
      "execution_count": 7,
      "source": [
        "# since we work with uri we need something to be sure that the uri are valid.\r\n",
        "def normalizeAndEncodeString(string):\r\n",
        "  string = str(string).replace(\" \", \"\")\r\n",
        "  string = urllib.parse.quote(string)\r\n",
        "  return string"
      ],
      "outputs": [],
      "metadata": {}
    },
    {
      "cell_type": "code",
      "execution_count": 8,
      "source": [
        "for team in df['Team'].unique():\r\n",
        "    try:\r\n",
        "        team_uri = URIRef(\"http://wallscope.co.uk/resource/olympics/team/\" + normalizeAndEncodeString(team))\r\n",
        "        result_graph.add((team_uri, RDF.type, DBO.SportsTeam))\r\n",
        "        result_graph.add((team_uri , RDFS.label, Literal(team, lang='en') ))\r\n",
        "    except:\r\n",
        "        print(\"Log: failed to create a team_uri\")    \r\n"
      ],
      "outputs": [],
      "metadata": {}
    },
    {
      "cell_type": "markdown",
      "source": [
        "#### `oc:SquawValley a dbo:City` \n",
        "\n",
        "* get all distinct cities and create `oc:SquawValley a dbo:City`  with rdfs:label\n",
        "* `str(city).replace(\" \", \"\"))` is necessary as whitespace in \"Squaw Valley\" leads to an invalid URI. so you have to be careful what you take to build the URI. "
      ],
      "metadata": {}
    },
    {
      "cell_type": "code",
      "execution_count": 9,
      "source": [
        "for city in df['City'].unique():\r\n",
        "    city_uri = URIRef(\"http://wallscope.co.uk/resource/olympics/city/\" + normalizeAndEncodeString(city) )\r\n",
        "    result_graph.add((city_uri, RDF.type, DBO.City))\r\n",
        "    # add @en to data literal via lang param\r\n",
        "    result_graph.add((city_uri , RDFS.label, Literal(city, lang='en') ))\r\n"
      ],
      "outputs": [],
      "metadata": {}
    },
    {
      "cell_type": "code",
      "execution_count": 10,
      "source": [
        "# o:SpeedSkating a dbp:Sport .\r\n",
        "for sport in df['Sport'].unique():\r\n",
        "    sport_uri = URIRef(\"http://wallscope.co.uk/resource/olympics/\" + normalizeAndEncodeString(sport) )\r\n",
        "    result_graph.add((sport_uri, RDF.type, DBO.Sport))\r\n",
        "# o:Summer a dbo:TimePeriod .\r\n",
        "for season in df['Season'].unique():\r\n",
        "    season_uri = URIRef(\"http://wallscope.co.uk/resource/olympics/\" + normalizeAndEncodeString(season) )\r\n",
        "    result_graph.add((season_uri, RDF.type, DBO.TimePeriod))\r\n",
        "    result_graph.add((season_uri , RDFS.label, Literal(season, lang='en') ))\r\n",
        "# o:SpeedSkatingWomen500metres a o:Discipline .\r\n",
        "for discipline in df['Event'].unique():\r\n",
        "    # just for having a valid url; maybe not the best idea ;)\r\n",
        "    discipline_uri = URIRef(\"http://wallscope.co.uk/resource/olympics/\" + normalizeAndEncodeString(discipline) )\r\n",
        "    result_graph.add((discipline_uri, RDF.type, O.Discipline))\r\n",
        "    result_graph.add((discipline_uri , RDFS.label, Literal(discipline, lang='en') ))\r\n",
        "\r\n",
        "# add Male and Female as skos:Concept\r\n",
        "female = URIRef(\"http://wallscope.co.uk/resource/olympics/F\")\r\n",
        "male = URIRef(\"http://wallscope.co.uk/resource/olympics/M\")\r\n",
        "result_graph.add(( female , RDF.type, SKOS.Concept))\r\n",
        "result_graph.add(( female , RDFS.label, Literal(\"female\", lang='en') ))\r\n",
        "result_graph.add(( female , RDFS.label, Literal(\"weiblich\", lang='de') ))\r\n",
        "result_graph.add(( male, RDF.type, SKOS.Concept))\r\n",
        "result_graph.add(( male , RDFS.label, Literal(\"male\", lang='en') ))\r\n",
        "result_graph.add(( male , RDFS.label, Literal(\"männlich\", lang='de') ))"
      ],
      "outputs": [
        {
          "output_type": "execute_result",
          "data": {
            "text/plain": [
              "<Graph identifier=N7098ac4cd6da480fb602ed0aa8e106a2 (<class 'rdflib.graph.Graph'>)>"
            ]
          },
          "metadata": {},
          "execution_count": 10
        }
      ],
      "metadata": {}
    },
    {
      "cell_type": "code",
      "execution_count": 11,
      "source": [
        "\r\n",
        "# create <ol:Athlete rdf:about=\"https://gams.uni-graz.at/olympia.1#9792\"/>\r\n",
        "# groupy by value in the ID-column\r\n",
        "df_group_by_id = df.groupby('ID')\r\n",
        "# iteration over all groups\r\n",
        "for ID, df_group in df_group_by_id:\r\n",
        "\r\n",
        "  # we will take <http://wallscope.co.uk/resource/olympics/athlete/24> instead of oa:NilsEgilAaness \r\n",
        "  athlete_uri = URIRef(BASE_URL + str(ID))\r\n",
        "  result_graph.add((athlete_uri, RDF.type, FOAF.Person))\r\n",
        "\r\n",
        "  # iteration over all elements inside the group\r\n",
        "  for row_index, row in df_group.iterrows():\r\n",
        "    # foaf:name, rdfs:label\r\n",
        "    if(row[\"Name\"]):\r\n",
        "      result_graph.add(( athlete_uri, RDFS.label, Literal(row[\"Name\"]) ))\r\n",
        "      result_graph.add(( athlete_uri, FOAF.name, Literal(row[\"Name\"]) ))  \r\n",
        "    # Age - foaf:age 17, Weight - dbp:weight 65, Height- dbp:height 169; only integer\r\n",
        "    if(row[\"Age\"]):\r\n",
        "      # integer is default datatype for number; but with datatype=XSD.integer or datatype=XSD.float you can add this to the literal\r\n",
        "      result_graph.add(( athlete_uri, FOAF.age, Literal(row[\"Age\"] , datatype=XSD.integer) ))\r\n",
        "    if(row[\"Height\"].is_integer()):\r\n",
        "      result_graph.add(( athlete_uri, DBP.height, Literal(row[\"Height\"] ) ))\r\n",
        "    if(row[\"Weight\"].is_integer()):\r\n",
        "      result_graph.add(( athlete_uri, DBP.weight, Literal(row[\"Weight\"] ) ))\r\n",
        "\r\n",
        "    # Sex - foaf:gender o:F\r\n",
        "    if(row[\"Sex\"] == \"F\"):\r\n",
        "      result_graph.add((athlete_uri, FOAF.gender, URIRef( female ) ))\r\n",
        "    if(row[\"Sex\"] == \"M\"):\r\n",
        "      result_graph.add((athlete_uri, FOAF.gender, URIRef( male ) ))\r\n",
        "\r\n",
        "    # Team - dbp:team ot:Netherlands\r\n",
        "    if(row[\"Team\"]):\r\n",
        "      result_graph.add(( athlete_uri, DBP.team, URIRef(\"http://wallscope.co.uk/resource/olympics/team/\" + normalizeAndEncodeString(row[\"Team\"]) )))\r\n",
        "\r\n",
        "    # Game\r\n",
        "    if(row[\"Games\"]):\r\n",
        "      game_uri = URIRef(\"http://wallscope.co.uk/resource/olympics/\" + str(row[\"Games\"]).replace(\" \", \"\"))\r\n",
        "      result_graph.add((game_uri, RDF.type, DBO.Olympics))\r\n",
        "      # add @en to data literal via lang param\r\n",
        "      result_graph.add((game_uri , RDFS.label, Literal( row[\"Games\"], lang='en' ) ))\r\n",
        "      result_graph.add((game_uri , O.city, URIRef(\"http://wallscope.co.uk/resource/olympics/city/\" + str(row[\"City\"]).replace(\" \", \"\")) ))\r\n",
        "      result_graph.add((game_uri , O.season, URIRef(\"http://wallscope.co.uk/resource/olympics/\" + str(row[\"Season\"]).replace(\" \", \"\")) ))\r\n",
        " \r\n",
        "    # o:Discipline o:sport o:Luge.\r\n",
        "    discipline_string = urllib.parse.quote(str(row[\"Event\"]).replace(\" \", \"\"))\r\n",
        "    discipline_uri = URIRef(\"http://wallscope.co.uk/resource/olympics/\" + discipline_string )\r\n",
        "    result_graph.add((discipline_uri , O.sport, URIRef(\"http://wallscope.co.uk/resource/olympics/\" + str(row[\"Sport\"]).replace(\" \", \"\")) ))\r\n",
        "\r\n",
        "    # Result\r\n",
        "    result_uri = URIRef(\"http://wallscope.co.uk/resource/olympics/\" + \"result.\" + str(ID))\r\n",
        "    result_graph.add((result_uri, RDF.type, O.Result))\r\n",
        "    result_graph.add((result_uri, O.athlete, athlete_uri)) \r\n",
        "    result_graph.add((result_uri, O.discipline, discipline_uri)) \r\n",
        "    result_graph.add((result_uri, O.game, game_uri)) "
      ],
      "outputs": [],
      "metadata": {
        "id": "wL9ZbIunDGYX",
        "tags": []
      }
    },
    {
      "cell_type": "markdown",
      "source": [],
      "metadata": {}
    },
    {
      "cell_type": "markdown",
      "source": [
        "#### Create a new file\n",
        "\n",
        "* format=\"xml\" - creates plain xml/rdf\n",
        "* format=\"pretty-xml\" - abbreviated RDF/XML syntax \n",
        "* format=\"turtle\""
      ],
      "metadata": {
        "id": "5Q2GJvtEHxD1"
      }
    },
    {
      "cell_type": "code",
      "execution_count": 12,
      "source": [
        "result_graph.serialize(destination = \"olympia_output.ttl\", format=\"turtle\")"
      ],
      "outputs": [
        {
          "output_type": "execute_result",
          "data": {
            "text/plain": [
              "<Graph identifier=N7098ac4cd6da480fb602ed0aa8e106a2 (<class 'rdflib.graph.Graph'>)>"
            ]
          },
          "metadata": {},
          "execution_count": 12
        }
      ],
      "metadata": {
        "id": "chGLcPc-Ht1N"
      }
    }
  ]
}
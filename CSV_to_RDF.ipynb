{
  "nbformat": 4,
  "nbformat_minor": 0,
  "metadata": {
    "colab": {
      "name": "CSV_to_RDF.ipynb",
      "provenance": [],
      "collapsed_sections": [],
      "authorship_tag": "ABX9TyNf9+7lGd2uFOfF4Rh8mxtg",
      "include_colab_link": true
    },
    "kernelspec": {
      "name": "python3",
      "display_name": "Python 3"
    }
  },
  "cells": [
    {
      "cell_type": "markdown",
      "metadata": {
        "id": "view-in-github",
        "colab_type": "text"
      },
      "source": [
        "<a href=\"https://colab.research.google.com/github/chpollin/Teaching/blob/master/CSV_to_RDF.ipynb\" target=\"_parent\"><img src=\"https://colab.research.google.com/assets/colab-badge.svg\" alt=\"Open In Colab\"/></a>"
      ]
    },
    {
      "cell_type": "markdown",
      "metadata": {
        "id": "2AO1-cVk8fXh"
      },
      "source": [
        "first we have to install the library [rdflib](https://rdflib.readthedocs.io/en/stable/) and import it next to [pandas](https://pandas.pydata.org/), which helbs to work with a csv file. "
      ]
    },
    {
      "cell_type": "code",
      "metadata": {
        "colab": {
          "base_uri": "https://localhost:8080/"
        },
        "id": "ZVWy4-a28PzK",
        "outputId": "e372757c-3412-4ddf-97f7-cd244748359b"
      },
      "source": [
        "!pip install rdflib\r\n",
        "from rdflib import Graph, Literal, Namespace, URIRef\r\n",
        "from rdflib.namespace import DCTERMS, RDF, RDFS, SKOS, XSD\r\n",
        "import pandas as pd"
      ],
      "execution_count": null,
      "outputs": [
        {
          "output_type": "stream",
          "text": [
            "Requirement already satisfied: rdflib in /usr/local/lib/python3.7/dist-packages (5.0.0)\n",
            "Requirement already satisfied: six in /usr/local/lib/python3.7/dist-packages (from rdflib) (1.15.0)\n",
            "Requirement already satisfied: isodate in /usr/local/lib/python3.7/dist-packages (from rdflib) (0.6.0)\n",
            "Requirement already satisfied: pyparsing in /usr/local/lib/python3.7/dist-packages (from rdflib) (2.4.7)\n"
          ],
          "name": "stdout"
        }
      ]
    },
    {
      "cell_type": "markdown",
      "metadata": {
        "id": "iVAOEUJe_yzP"
      },
      "source": [
        "`result_graph` contains the rdf graph we want to generate and serialize in a new output file. we predefine alle needed namespaces and add them to `result_graph`."
      ]
    },
    {
      "cell_type": "code",
      "metadata": {
        "id": "dPImu9_a7ORV"
      },
      "source": [
        "#\r\n",
        "result_graph = Graph()\r\n",
        "\r\n",
        "GAMS = Namespace(\"https://gams.uni-graz.at/o:gams-ontology#\") \r\n",
        "VOID = Namespace(\"http://rdfs.org/ns/void#\")\r\n",
        "FOAF = Namespace(\"http://xmlns.com/foaf/spec/\")\r\n",
        "DCTERMS = Namespace(\"http://purl.org/dc/terms/\")\r\n",
        "DC = Namespace(\"http://purl.org/dc/elements/1.1/\")\r\n",
        "OL = Namespace(\"http://olympia-ontology#\")\r\n",
        "\r\n",
        "result_graph.bind(\"gams\", GAMS)\r\n",
        "result_graph.bind(\"void\", VOID)\r\n",
        "result_graph.bind(\"foaf\", FOAF)\r\n",
        "result_graph.bind(\"dcterms\", DCTERMS)\r\n",
        "result_graph.bind(\"dc\", DC)\r\n",
        "result_graph.bind(\"ol\", OL)\r\n",
        "\r\n",
        "# so that https://gams.uni-graz.at/olympia.1 is the URL of our RDF document somewhere in the web\r\n",
        "BASE_URL = \"https://gams.uni-graz.at/\"\r\n",
        "DOCUMENT_ID = \"olympia.1\""
      ],
      "execution_count": null,
      "outputs": []
    },
    {
      "cell_type": "markdown",
      "metadata": {
        "id": "w83GtGBAB-4o"
      },
      "source": [
        "loading the data into a new panda dataframe. upload the `athlete_events_smaller.csv` into the *data* folder. the csv contains 2500 athletes for each multiple rows can exist. the header of the CSV looks like the following;\r\n",
        "\r\n",
        "\"ID\",\"Name\",\"Sex\",\"Age\",\"Height\",\"Weight\",\"Team\",\"NOC\",\"Games\",\"Year\",\"Season\",\"City\",\"Sport\",\"Event\",\"Medal\""
      ]
    },
    {
      "cell_type": "code",
      "metadata": {
        "colab": {
          "base_uri": "https://localhost:8080/"
        },
        "id": "GioPsib5A8fA",
        "outputId": "0e978d1b-bfc3-4a64-b072-cde7a76f57c2"
      },
      "source": [
        "df = pd.read_csv(\"athlete_events_smaller.csv\", encoding=\"utf8\") \r\n",
        "print(df)"
      ],
      "execution_count": null,
      "outputs": [
        {
          "output_type": "stream",
          "text": [
            "        ID  ...   Medal\n",
            "0        1  ...     NaN\n",
            "1        2  ...     NaN\n",
            "2        3  ...     NaN\n",
            "3        4  ...    Gold\n",
            "4        5  ...     NaN\n",
            "...    ...  ...     ...\n",
            "4382  2497  ...  Bronze\n",
            "4383  2497  ...    Gold\n",
            "4384  2498  ...     NaN\n",
            "4385  2499  ...     NaN\n",
            "4386  2500  ...     NaN\n",
            "\n",
            "[4387 rows x 15 columns]\n"
          ],
          "name": "stdout"
        }
      ]
    },
    {
      "cell_type": "markdown",
      "metadata": {
        "id": "M51vM_owDLOI"
      },
      "source": [
        "groups all rows by \"ID\" and add properties to ol:Athlete\r\n",
        "* "
      ]
    },
    {
      "cell_type": "code",
      "metadata": {
        "id": "wL9ZbIunDGYX"
      },
      "source": [
        "#for group in df.groupby('ID'):\r\n",
        "#    print(group)\r\n",
        "\r\n",
        "groups_by_id = df.groupby('ID')\r\n",
        "#print(BASE_URL)\r\n",
        "\r\n",
        "for ID, group in groups_by_id:\r\n",
        "  # create <ol:Athlete rdf:about=\"https://gams.uni-graz.at/olympia.1#9792\"/>\r\n",
        "  athlete = URIRef(BASE_URL + DOCUMENT_ID + \"#\" + str(ID))\r\n",
        "  result_graph.add((athlete, RDF.type, OL.Athlete))\r\n",
        "  \r\n",
        "  # second loop for every group\r\n",
        "  for datafield in group:\r\n",
        "    if(datafield == \"Name\"):\r\n",
        "      result_graph.add(( athlete, FOAF.name, Literal(group[datafield].values[0]) ))\r\n",
        "    if(datafield == \"Height\"):\r\n",
        "      result_graph.add(( athlete, OL.height, Literal(group[datafield].values[0]) ))\r\n",
        "    if(datafield == \"Weight\"):\r\n",
        "      result_graph.add(( athlete, OL.weight, Literal(group[datafield].values[0]) ))\r\n",
        "    if(datafield == \"Age\"):\r\n",
        "      result_graph.add(( athlete, OL.age, Literal(group[datafield].values[0]) ))\r\n",
        "    if(datafield == \"Sex\"):\r\n",
        "      result_graph.add(( athlete, FOAF.gender, Literal(group[datafield].values[0]) ))\r\n",
        "    if(datafield == \"Team\"):\r\n",
        "      result_graph.add(( athlete, OL.team, Literal(group[datafield].values[0]) ))\r\n",
        "\r\n",
        "    #  \r\n",
        "    if(datafield == \"Season\"):\r\n",
        "      # ol:Result rdf:about=\"https://gams.uni-graz.at/olympia.1#144Result\" , ol:season, ol:year, ol:discipline\r\n",
        "      result = URIRef(BASE_URL + DOCUMENT_ID + \"#\" + str(ID) + \"Result\")\r\n",
        "      result_graph.add((result, RDF.type, OL.Result))\r\n",
        "      result_graph.add(( athlete, OL.result, result ))\r\n",
        "\r\n",
        "      result_graph.add(( result, OL.season, Literal(group[\"Season\"].values[0]) ))\r\n",
        "      result_graph.add(( result, OL.year, Literal(group[\"Year\"].values[0]) ))\r\n",
        "\r\n",
        "      # <ol:Discipline rdf:about=\"https://gams.uni-graz.at/olympia.1#144Discipline\">\r\n",
        "      discipline = URIRef(BASE_URL + DOCUMENT_ID + \"#\" + str(ID) + \"Discipline\")\r\n",
        "      result_graph.add(( result, OL.discipline, discipline ))\r\n",
        "      result_graph.add(( discipline, RDF.type, OL.Discipline ))\r\n",
        "\r\n",
        "      result_graph.add(( discipline, OL.sport,  Literal(group[\"Sport\"].values[0])  ))\r\n",
        " "
      ],
      "execution_count": null,
      "outputs": []
    },
    {
      "cell_type": "markdown",
      "metadata": {
        "id": "5Q2GJvtEHxD1"
      },
      "source": [
        "create new file\r\n",
        "* format=\"xml\" - creates plain xml/rdf - rdf:type void:Dataset)\r\n",
        "* format=\"pretty-xml\" - abbreviated RDF/XML syntax - void:Dataset\r\n",
        "+ format=\"turtle\""
      ]
    },
    {
      "cell_type": "code",
      "metadata": {
        "id": "chGLcPc-Ht1N"
      },
      "source": [
        "result_graph.serialize(destination = 'output.xml', format=\"pretty-xml\")"
      ],
      "execution_count": null,
      "outputs": []
    }
  ]
}